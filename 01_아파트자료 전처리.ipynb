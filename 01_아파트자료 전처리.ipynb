{
 "cells": [
  {
   "cell_type": "code",
   "execution_count": 1,
   "metadata": {},
   "outputs": [],
   "source": [
    "import pandas as pd"
   ]
  },
  {
   "cell_type": "markdown",
   "metadata": {},
   "source": [
    "### 데이터 불러오기"
   ]
  },
  {
   "cell_type": "code",
   "execution_count": 2,
   "metadata": {},
   "outputs": [],
   "source": [
    "path='data/'"
   ]
  },
  {
   "cell_type": "code",
   "execution_count": 3,
   "metadata": {},
   "outputs": [],
   "source": [
    "hloan_df=pd.read_csv(path+'가계대출.csv', encoding='euc-kr')\n",
    "ir_df=pd.read_csv(path+'기준금리.csv', encoding='euc-kr')\n",
    "cpi_df=pd.read_csv(path+'물가.csv')\n",
    "fed_df=pd.read_csv(path+'미국기준금리.csv', encoding='euc-kr')\n",
    "inc_df=pd.read_csv(path+'소득.csv', encoding='euc-kr')\n",
    "exp_df=pd.read_csv(path+'소비지출.csv', encoding='euc-kr')\n",
    "apt_df=pd.read_excel(path+'아파트가격.xlsx')\n",
    "savings_df=pd.read_csv(path+'저축.csv', encoding='euc-kr')\n",
    "kospi_df=pd.read_csv(path+'주가.csv')\n",
    "hccsi_df=pd.read_csv(path+'주택시장 소비심리지수.csv', encoding='euc-kr')\n",
    "bond_df=pd.read_csv(path+'채권금리.csv')\n",
    "m2_df=pd.read_csv(path+'통화량.csv', encoding='euc-kr')"
   ]
  },
  {
   "cell_type": "markdown",
   "metadata": {},
   "source": [
    "### 전처리 위한 복사"
   ]
  },
  {
   "cell_type": "code",
   "execution_count": 4,
   "metadata": {},
   "outputs": [],
   "source": [
    "hloan_e=hloan_df\n",
    "ir_e=ir_df\n",
    "cpi_e=cpi_df\n",
    "fed_e=fed_df\n",
    "inc_e=inc_df\n",
    "exp_e=exp_df\n",
    "apt_e=apt_df\n",
    "savings_e=savings_df\n",
    "kospi_e=kospi_df\n",
    "hccsi_e=hccsi_df\n",
    "bond_e=bond_df\n",
    "m2_e=m2_df"
   ]
  },
  {
   "cell_type": "markdown",
   "metadata": {},
   "source": [
    "### hloan 전처리"
   ]
  },
  {
   "cell_type": "code",
   "execution_count": 5,
   "metadata": {
    "scrolled": true
   },
   "outputs": [],
   "source": [
    "hloan_e['날짜']=pd.to_datetime(hloan_e['시점'])\n",
    "hloan_e[\"가계대출\"]=hloan_e[\"예금취급기관\"]+hloan_e[\"[참고] 주택금융공사 및 주택도시기금의 주택담보대출\"]\n",
    "hloan_e2=hloan_e[['날짜','가계대출']]\n",
    "hloan=hloan_e2.set_index('날짜')"
   ]
  },
  {
   "cell_type": "markdown",
   "metadata": {},
   "source": [
    "### ir 전처리"
   ]
  },
  {
   "cell_type": "code",
   "execution_count": 6,
   "metadata": {
    "scrolled": true
   },
   "outputs": [],
   "source": [
    "ir_e['날짜']=pd.to_datetime(ir_e['날짜'])\n",
    "ir=ir_e.set_index('날짜')"
   ]
  },
  {
   "cell_type": "markdown",
   "metadata": {},
   "source": [
    "### cpi 전처리"
   ]
  },
  {
   "cell_type": "code",
   "execution_count": 7,
   "metadata": {},
   "outputs": [],
   "source": [
    "cpi_e=cpi_e.transpose()\n",
    "cpi_e=cpi_e.iloc[:,0]\n",
    "cpi_e=cpi_e.to_frame()\n",
    "cpi_e2=cpi_e.reset_index()\n",
    "cpi_e2.rename(columns={'index':'날짜', 0:'물가'}, inplace=True)\n",
    "cpi_e2=cpi_e2.drop(index=0)\n",
    "cpi_e2['날짜']=pd.to_datetime(cpi_e2['날짜'])\n",
    "cpi=cpi_e2.set_index('날짜')"
   ]
  },
  {
   "cell_type": "markdown",
   "metadata": {},
   "source": [
    "### fed 전처리"
   ]
  },
  {
   "cell_type": "code",
   "execution_count": 8,
   "metadata": {},
   "outputs": [],
   "source": [
    "fed_e['날짜']=pd.to_datetime(fed_e['날짜'])\n",
    "fed_e=fed_e[fed_e[\"날짜\"].dt.day == 1]\n",
    "fed=fed_e.set_index('날짜')"
   ]
  },
  {
   "cell_type": "markdown",
   "metadata": {},
   "source": [
    "### inc 전처리"
   ]
  },
  {
   "cell_type": "code",
   "execution_count": 9,
   "metadata": {
    "scrolled": true
   },
   "outputs": [],
   "source": [
    "inc_e.rename(columns={'시점':'날짜', '전체가구':'소득'}, inplace=True)\n",
    "inc_e=inc_e.drop(index=0)"
   ]
  },
  {
   "cell_type": "code",
   "execution_count": 10,
   "metadata": {
    "scrolled": true
   },
   "outputs": [],
   "source": [
    "df = []\n",
    "for i in range(len(inc_e.index)):\n",
    "    df1 = pd.DataFrame(inc_e.loc[i+1,:])\n",
    "    df.append(df1)\n",
    "    df.append(df1)\n",
    "    df.append(df1)\n",
    "df = pd.concat(df, axis=1)\n",
    "inc_e2=df.transpose()"
   ]
  },
  {
   "cell_type": "code",
   "execution_count": 11,
   "metadata": {},
   "outputs": [],
   "source": [
    "inc_e2['소득'] = inc_e2['소득'].apply(lambda x: float(x.split()[0].replace(',', '')))\n",
    "\n",
    "inc_e2=inc_e2.set_index('날짜')\n",
    "inc_e2['날짜']=pd.date_range('2011-1', periods=120, freq='MS')\n",
    "inc=inc_e2.set_index('날짜')"
   ]
  },
  {
   "cell_type": "markdown",
   "metadata": {},
   "source": [
    "### exp 전처리"
   ]
  },
  {
   "cell_type": "code",
   "execution_count": 12,
   "metadata": {},
   "outputs": [],
   "source": [
    "df = []\n",
    "for i in range(len(exp_e.index)):\n",
    "    df1 = pd.DataFrame(exp_e.loc[i,:])\n",
    "    df.append(df1)\n",
    "    df.append(df1)\n",
    "    df.append(df1)\n",
    "df = pd.concat(df, axis=1)\n",
    "exp_e2=df.transpose()"
   ]
  },
  {
   "cell_type": "code",
   "execution_count": 13,
   "metadata": {},
   "outputs": [],
   "source": [
    "exp_e2['소비'] = exp_e2['소비'].apply(lambda x: float(x.split()[0].replace(',', '')))/3\n",
    "exp_e2['날짜']=pd.date_range('2011-1', periods=120, freq='MS')\n",
    "exp=exp_e2.set_index('날짜')"
   ]
  },
  {
   "cell_type": "markdown",
   "metadata": {},
   "source": [
    "### apt 전처리"
   ]
  },
  {
   "cell_type": "code",
   "execution_count": 14,
   "metadata": {},
   "outputs": [],
   "source": [
    "apt_e=apt_e.transpose()\n",
    "apt_e=apt_e.iloc[:,0]\n",
    "apt_e=apt_e.to_frame()\n",
    "\n",
    "apt_e2=apt_e.reset_index()\n",
    "apt_e2.rename(columns={'index':'날짜', 0:'아파트가격'}, inplace=True)\n",
    "apt_e2=apt_e2.drop(index=0)\n",
    "\n",
    "apt_e2['날짜']=apt_e2['날짜'].str.replace('년 ','-').str.replace('월','')\n",
    "apt_e2['날짜']=pd.to_datetime(apt_e2['날짜'])\n",
    "\n",
    "apt=apt_e2.set_index('날짜')"
   ]
  },
  {
   "cell_type": "markdown",
   "metadata": {},
   "source": [
    "### savings 전처리"
   ]
  },
  {
   "cell_type": "code",
   "execution_count": 15,
   "metadata": {},
   "outputs": [],
   "source": [
    "savings_e=savings_e.transpose()\n",
    "\n",
    "savings_e=savings_e.reset_index()\n",
    "savings_e.rename(columns={'index':'날짜', 0:'저축'}, inplace=True)\n",
    "savings_e=savings_e.drop(index=0)"
   ]
  },
  {
   "cell_type": "code",
   "execution_count": 16,
   "metadata": {},
   "outputs": [],
   "source": [
    "df = []\n",
    "for i in range(len(savings_e.index)):\n",
    "    df1 = pd.DataFrame(savings_e.loc[i+1,:])\n",
    "    df.append(df1)\n",
    "    df.append(df1)\n",
    "    df.append(df1)\n",
    "df = pd.concat(df, axis=1)\n",
    "savings_e2=df.transpose()"
   ]
  },
  {
   "cell_type": "code",
   "execution_count": 17,
   "metadata": {},
   "outputs": [],
   "source": [
    "savings_e2['날짜']=pd.to_datetime(savings_e2['날짜'])\n",
    "savings_e2=savings_e2.set_index('날짜')\n",
    "\n",
    "savings_e2['저축'] = savings_e2['저축'].apply(lambda x: float(x.split()[0].replace(',', '')))/3\n",
    "savings_e2['날짜'] = pd.date_range('2011-1', periods=120, freq='MS')\n",
    "savings=savings_e2.set_index('날짜')"
   ]
  },
  {
   "cell_type": "markdown",
   "metadata": {},
   "source": [
    "### kospi 전처리"
   ]
  },
  {
   "cell_type": "code",
   "execution_count": 18,
   "metadata": {},
   "outputs": [
    {
     "name": "stderr",
     "output_type": "stream",
     "text": [
      "<ipython-input-18-b6ba598be51e>:3: SettingWithCopyWarning: \n",
      "A value is trying to be set on a copy of a slice from a DataFrame.\n",
      "Try using .loc[row_indexer,col_indexer] = value instead\n",
      "\n",
      "See the caveats in the documentation: https://pandas.pydata.org/pandas-docs/stable/user_guide/indexing.html#returning-a-view-versus-a-copy\n",
      "  kospi_e['날짜']=kospi_e['날짜'].str.replace('년 ','-').str.replace('월','')\n",
      "<ipython-input-18-b6ba598be51e>:4: SettingWithCopyWarning: \n",
      "A value is trying to be set on a copy of a slice from a DataFrame.\n",
      "Try using .loc[row_indexer,col_indexer] = value instead\n",
      "\n",
      "See the caveats in the documentation: https://pandas.pydata.org/pandas-docs/stable/user_guide/indexing.html#returning-a-view-versus-a-copy\n",
      "  kospi_e['날짜']=pd.to_datetime(kospi_e['날짜'])\n",
      "C:\\Users\\heewon.HEEWON\\anaconda3\\lib\\site-packages\\pandas\\core\\frame.py:4296: SettingWithCopyWarning: \n",
      "A value is trying to be set on a copy of a slice from a DataFrame\n",
      "\n",
      "See the caveats in the documentation: https://pandas.pydata.org/pandas-docs/stable/user_guide/indexing.html#returning-a-view-versus-a-copy\n",
      "  return super().rename(\n"
     ]
    }
   ],
   "source": [
    "kospi_e=kospi_e.iloc[:,[0,1]]\n",
    "\n",
    "kospi_e['날짜']=kospi_e['날짜'].str.replace('년 ','-').str.replace('월','')\n",
    "kospi_e['날짜']=pd.to_datetime(kospi_e['날짜'])\n",
    "kospi_e.rename(columns={'index':'날짜', '종가':'주가'}, inplace=True)\n",
    "kospi_e2=kospi_e.iloc[::-1]\n",
    "\n",
    "kospi_e2['주가'] = kospi_e2['주가'].apply(lambda x: float(x.split()[0].replace(',', '')))\n",
    "kospi=kospi_e2.set_index('날짜')"
   ]
  },
  {
   "cell_type": "markdown",
   "metadata": {},
   "source": [
    "### hccsi 전처리"
   ]
  },
  {
   "cell_type": "code",
   "execution_count": 19,
   "metadata": {},
   "outputs": [],
   "source": [
    "hccsi_e=hccsi_e.iloc[:,[0,1]]\n",
    "hccsi_e.rename(columns={'전국':'심리지수','시점':'날짜'}, inplace=True)\n",
    "hccsi_e=hccsi_e.drop(index=0)\n",
    "hccsi_e['날짜']=pd.to_datetime(hccsi_e['날짜'])\n",
    "hccsi=hccsi_e.set_index(\"날짜\")"
   ]
  },
  {
   "cell_type": "markdown",
   "metadata": {},
   "source": [
    "### bond 전처리"
   ]
  },
  {
   "cell_type": "code",
   "execution_count": 20,
   "metadata": {},
   "outputs": [
    {
     "name": "stderr",
     "output_type": "stream",
     "text": [
      "<ipython-input-20-f567db1694a4>:3: SettingWithCopyWarning: \n",
      "A value is trying to be set on a copy of a slice from a DataFrame.\n",
      "Try using .loc[row_indexer,col_indexer] = value instead\n",
      "\n",
      "See the caveats in the documentation: https://pandas.pydata.org/pandas-docs/stable/user_guide/indexing.html#returning-a-view-versus-a-copy\n",
      "  bond_e['날짜']=bond_e['날짜'].str.replace('년 ','-').str.replace('월','')\n",
      "<ipython-input-20-f567db1694a4>:4: SettingWithCopyWarning: \n",
      "A value is trying to be set on a copy of a slice from a DataFrame.\n",
      "Try using .loc[row_indexer,col_indexer] = value instead\n",
      "\n",
      "See the caveats in the documentation: https://pandas.pydata.org/pandas-docs/stable/user_guide/indexing.html#returning-a-view-versus-a-copy\n",
      "  bond_e['날짜']=pd.to_datetime(bond_e['날짜'])\n"
     ]
    }
   ],
   "source": [
    "bond_e=bond_e.iloc[:,[0,1]]\n",
    "\n",
    "bond_e['날짜']=bond_e['날짜'].str.replace('년 ','-').str.replace('월','')\n",
    "bond_e['날짜']=pd.to_datetime(bond_e['날짜'])\n",
    "bond_e.rename(columns={'index':'날짜', '종가':'채권금리'}, inplace=True)\n",
    "bond_e2=bond_e.iloc[::-1]\n",
    "\n",
    "bond_e2=bond_e2.set_index('날짜')\n",
    "bond=bond_e2"
   ]
  },
  {
   "cell_type": "markdown",
   "metadata": {},
   "source": [
    "### m2 전처리"
   ]
  },
  {
   "cell_type": "code",
   "execution_count": 21,
   "metadata": {},
   "outputs": [],
   "source": [
    "m2_e.rename(columns={'시점':'날짜'}, inplace=True)\n",
    "m2_e['날짜']=pd.to_datetime(m2_e['날짜'])\n",
    "m2=m2_e.set_index(\"날짜\")"
   ]
  },
  {
   "cell_type": "markdown",
   "metadata": {},
   "source": [
    "### 데이터 합치기"
   ]
  },
  {
   "cell_type": "code",
   "execution_count": 22,
   "metadata": {},
   "outputs": [
    {
     "data": {
      "text/html": [
       "<div>\n",
       "<style scoped>\n",
       "    .dataframe tbody tr th:only-of-type {\n",
       "        vertical-align: middle;\n",
       "    }\n",
       "\n",
       "    .dataframe tbody tr th {\n",
       "        vertical-align: top;\n",
       "    }\n",
       "\n",
       "    .dataframe thead th {\n",
       "        text-align: right;\n",
       "    }\n",
       "</style>\n",
       "<table border=\"1\" class=\"dataframe\">\n",
       "  <thead>\n",
       "    <tr style=\"text-align: right;\">\n",
       "      <th></th>\n",
       "      <th>hloan</th>\n",
       "      <th>ir</th>\n",
       "      <th>cpi</th>\n",
       "      <th>fed</th>\n",
       "      <th>inc</th>\n",
       "      <th>exp</th>\n",
       "      <th>apt</th>\n",
       "      <th>savings</th>\n",
       "      <th>kospi</th>\n",
       "      <th>hccsi</th>\n",
       "      <th>bond</th>\n",
       "      <th>m2</th>\n",
       "    </tr>\n",
       "    <tr>\n",
       "      <th>date</th>\n",
       "      <th></th>\n",
       "      <th></th>\n",
       "      <th></th>\n",
       "      <th></th>\n",
       "      <th></th>\n",
       "      <th></th>\n",
       "      <th></th>\n",
       "      <th></th>\n",
       "      <th></th>\n",
       "      <th></th>\n",
       "      <th></th>\n",
       "      <th></th>\n",
       "    </tr>\n",
       "  </thead>\n",
       "  <tbody>\n",
       "    <tr>\n",
       "      <th>2011-07-01</th>\n",
       "      <td>666961.6</td>\n",
       "      <td>3.25</td>\n",
       "      <td>94.982</td>\n",
       "      <td>0.25</td>\n",
       "      <td>3897608.967</td>\n",
       "      <td>60048.466667</td>\n",
       "      <td>274.007</td>\n",
       "      <td>42005.300000</td>\n",
       "      <td>2133.21</td>\n",
       "      <td>128.8</td>\n",
       "      <td>4.190</td>\n",
       "      <td>1705451.5</td>\n",
       "    </tr>\n",
       "    <tr>\n",
       "      <th>2011-08-01</th>\n",
       "      <td>672207.1</td>\n",
       "      <td>3.25</td>\n",
       "      <td>95.62</td>\n",
       "      <td>0.25</td>\n",
       "      <td>3897608.967</td>\n",
       "      <td>60048.466667</td>\n",
       "      <td>272.827</td>\n",
       "      <td>42005.300000</td>\n",
       "      <td>1880.11</td>\n",
       "      <td>133.7</td>\n",
       "      <td>3.870</td>\n",
       "      <td>1719437.8</td>\n",
       "    </tr>\n",
       "    <tr>\n",
       "      <th>2011-09-01</th>\n",
       "      <td>673546.5</td>\n",
       "      <td>3.25</td>\n",
       "      <td>95.529</td>\n",
       "      <td>0.25</td>\n",
       "      <td>3897608.967</td>\n",
       "      <td>60048.466667</td>\n",
       "      <td>269.896</td>\n",
       "      <td>42005.300000</td>\n",
       "      <td>1769.65</td>\n",
       "      <td>129.2</td>\n",
       "      <td>3.930</td>\n",
       "      <td>1729531.1</td>\n",
       "    </tr>\n",
       "    <tr>\n",
       "      <th>2011-10-01</th>\n",
       "      <td>679967.1</td>\n",
       "      <td>3.25</td>\n",
       "      <td>95.347</td>\n",
       "      <td>0.25</td>\n",
       "      <td>3883351.086</td>\n",
       "      <td>61810.700000</td>\n",
       "      <td>268.487</td>\n",
       "      <td>44872.866667</td>\n",
       "      <td>1909.03</td>\n",
       "      <td>119</td>\n",
       "      <td>3.860</td>\n",
       "      <td>1742645.4</td>\n",
       "    </tr>\n",
       "    <tr>\n",
       "      <th>2011-11-01</th>\n",
       "      <td>684084.8</td>\n",
       "      <td>3.25</td>\n",
       "      <td>95.438</td>\n",
       "      <td>0.25</td>\n",
       "      <td>3883351.086</td>\n",
       "      <td>61810.700000</td>\n",
       "      <td>265.473</td>\n",
       "      <td>44872.866667</td>\n",
       "      <td>1847.51</td>\n",
       "      <td>110.2</td>\n",
       "      <td>3.770</td>\n",
       "      <td>1753296.4</td>\n",
       "    </tr>\n",
       "    <tr>\n",
       "      <th>...</th>\n",
       "      <td>...</td>\n",
       "      <td>...</td>\n",
       "      <td>...</td>\n",
       "      <td>...</td>\n",
       "      <td>...</td>\n",
       "      <td>...</td>\n",
       "      <td>...</td>\n",
       "      <td>...</td>\n",
       "      <td>...</td>\n",
       "      <td>...</td>\n",
       "      <td>...</td>\n",
       "      <td>...</td>\n",
       "    </tr>\n",
       "    <tr>\n",
       "      <th>2020-08-01</th>\n",
       "      <td>1304442.1</td>\n",
       "      <td>0.50</td>\n",
       "      <td>105.5</td>\n",
       "      <td>0.25</td>\n",
       "      <td>5027612.000</td>\n",
       "      <td>68010.566667</td>\n",
       "      <td>473.114</td>\n",
       "      <td>61117.466667</td>\n",
       "      <td>2326.17</td>\n",
       "      <td>122.8</td>\n",
       "      <td>1.513</td>\n",
       "      <td>3100373.4</td>\n",
       "    </tr>\n",
       "    <tr>\n",
       "      <th>2020-09-01</th>\n",
       "      <td>1314897.1</td>\n",
       "      <td>0.50</td>\n",
       "      <td>106.2</td>\n",
       "      <td>0.25</td>\n",
       "      <td>5027612.000</td>\n",
       "      <td>68010.566667</td>\n",
       "      <td>447.566</td>\n",
       "      <td>61117.466667</td>\n",
       "      <td>2327.89</td>\n",
       "      <td>123.7</td>\n",
       "      <td>1.430</td>\n",
       "      <td>3115238.9</td>\n",
       "    </tr>\n",
       "    <tr>\n",
       "      <th>2020-10-01</th>\n",
       "      <td>1326897.3</td>\n",
       "      <td>0.50</td>\n",
       "      <td>105.61</td>\n",
       "      <td>0.25</td>\n",
       "      <td>4887730.000</td>\n",
       "      <td>68497.333333</td>\n",
       "      <td>452.678</td>\n",
       "      <td>64862.333333</td>\n",
       "      <td>2267.15</td>\n",
       "      <td>131.3</td>\n",
       "      <td>1.542</td>\n",
       "      <td>3152811.6</td>\n",
       "    </tr>\n",
       "    <tr>\n",
       "      <th>2020-11-01</th>\n",
       "      <td>1343611.3</td>\n",
       "      <td>0.50</td>\n",
       "      <td>105.5</td>\n",
       "      <td>0.25</td>\n",
       "      <td>4887730.000</td>\n",
       "      <td>68497.333333</td>\n",
       "      <td>470.364</td>\n",
       "      <td>64862.333333</td>\n",
       "      <td>2591.34</td>\n",
       "      <td>134.9</td>\n",
       "      <td>1.657</td>\n",
       "      <td>3183500.9</td>\n",
       "    </tr>\n",
       "    <tr>\n",
       "      <th>2020-12-01</th>\n",
       "      <td>1351917.5</td>\n",
       "      <td>0.50</td>\n",
       "      <td>105.67</td>\n",
       "      <td>0.25</td>\n",
       "      <td>4887730.000</td>\n",
       "      <td>68497.333333</td>\n",
       "      <td>489.942</td>\n",
       "      <td>64862.333333</td>\n",
       "      <td>2873.47</td>\n",
       "      <td>130.6</td>\n",
       "      <td>1.722</td>\n",
       "      <td>3197671.2</td>\n",
       "    </tr>\n",
       "  </tbody>\n",
       "</table>\n",
       "<p>114 rows × 12 columns</p>\n",
       "</div>"
      ],
      "text/plain": [
       "                hloan    ir     cpi   fed          inc           exp      apt  \\\n",
       "date                                                                            \n",
       "2011-07-01   666961.6  3.25  94.982  0.25  3897608.967  60048.466667  274.007   \n",
       "2011-08-01   672207.1  3.25   95.62  0.25  3897608.967  60048.466667  272.827   \n",
       "2011-09-01   673546.5  3.25  95.529  0.25  3897608.967  60048.466667  269.896   \n",
       "2011-10-01   679967.1  3.25  95.347  0.25  3883351.086  61810.700000  268.487   \n",
       "2011-11-01   684084.8  3.25  95.438  0.25  3883351.086  61810.700000  265.473   \n",
       "...               ...   ...     ...   ...          ...           ...      ...   \n",
       "2020-08-01  1304442.1  0.50   105.5  0.25  5027612.000  68010.566667  473.114   \n",
       "2020-09-01  1314897.1  0.50   106.2  0.25  5027612.000  68010.566667  447.566   \n",
       "2020-10-01  1326897.3  0.50  105.61  0.25  4887730.000  68497.333333  452.678   \n",
       "2020-11-01  1343611.3  0.50   105.5  0.25  4887730.000  68497.333333  470.364   \n",
       "2020-12-01  1351917.5  0.50  105.67  0.25  4887730.000  68497.333333  489.942   \n",
       "\n",
       "                 savings    kospi  hccsi   bond         m2  \n",
       "date                                                        \n",
       "2011-07-01  42005.300000  2133.21  128.8  4.190  1705451.5  \n",
       "2011-08-01  42005.300000  1880.11  133.7  3.870  1719437.8  \n",
       "2011-09-01  42005.300000  1769.65  129.2  3.930  1729531.1  \n",
       "2011-10-01  44872.866667  1909.03    119  3.860  1742645.4  \n",
       "2011-11-01  44872.866667  1847.51  110.2  3.770  1753296.4  \n",
       "...                  ...      ...    ...    ...        ...  \n",
       "2020-08-01  61117.466667  2326.17  122.8  1.513  3100373.4  \n",
       "2020-09-01  61117.466667  2327.89  123.7  1.430  3115238.9  \n",
       "2020-10-01  64862.333333  2267.15  131.3  1.542  3152811.6  \n",
       "2020-11-01  64862.333333  2591.34  134.9  1.657  3183500.9  \n",
       "2020-12-01  64862.333333  2873.47  130.6  1.722  3197671.2  \n",
       "\n",
       "[114 rows x 12 columns]"
      ]
     },
     "execution_count": 22,
     "metadata": {},
     "output_type": "execute_result"
    }
   ],
   "source": [
    "dfs=[hloan,ir,cpi,fed,inc,exp,apt,savings,kospi,hccsi,bond,m2]\n",
    "\n",
    "set=pd.concat(dfs,axis=1)\n",
    "\n",
    "set.index.name='date'\n",
    "set.rename(columns={'가계대출':'hloan', '기준금리':'ir', '물가':'cpi', '미국기준금리':'fed', '소득':'inc', '소비':'exp', '아파트가격':'apt','저축':'savings', '주가':'kospi', '심리지수':'hccsi', '채권금리':'bond', '통화량':'m2'}, inplace=True)\n",
    "\n",
    "set2=set.loc['2011-07-01':'2020-12-01']\n",
    "set2"
   ]
  },
  {
   "cell_type": "code",
   "execution_count": 23,
   "metadata": {},
   "outputs": [],
   "source": [
    "set2.to_csv('set2.csv')"
   ]
  },
  {
   "cell_type": "code",
   "execution_count": null,
   "metadata": {},
   "outputs": [],
   "source": []
  }
 ],
 "metadata": {
  "kernelspec": {
   "display_name": "Python 3",
   "language": "python",
   "name": "python3"
  },
  "language_info": {
   "codemirror_mode": {
    "name": "ipython",
    "version": 3
   },
   "file_extension": ".py",
   "mimetype": "text/x-python",
   "name": "python",
   "nbconvert_exporter": "python",
   "pygments_lexer": "ipython3",
   "version": "3.8.5"
  }
 },
 "nbformat": 4,
 "nbformat_minor": 4
}
